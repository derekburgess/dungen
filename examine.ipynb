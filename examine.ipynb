{
 "cells": [
  {
   "cell_type": "code",
   "execution_count": 1,
   "metadata": {},
   "outputs": [],
   "source": [
    "import pandas as pd\n",
    "from rich.console import Console\n",
    "from rich.panel import Panel\n",
    "from rich.text import Text\n",
    "\n",
    "console = Console()"
   ]
  },
  {
   "cell_type": "code",
   "execution_count": 2,
   "metadata": {},
   "outputs": [],
   "source": [
    "def panel(title: str, message: str) -> Panel:\n",
    "    return Panel(Text(message, justify=\"left\"), title=f\"{title}\", border_style=\"bright_black\")"
   ]
  },
  {
   "cell_type": "code",
   "execution_count": 3,
   "metadata": {},
   "outputs": [],
   "source": [
    "file = \"cyberpunk.parquet\""
   ]
  },
  {
   "cell_type": "code",
   "execution_count": null,
   "metadata": {},
   "outputs": [],
   "source": [
    "try:\n",
    "    data = pd.read_parquet(file)\n",
    "    if data is not None and not data.empty:\n",
    "        for index, row in data.iterrows():\n",
    "            chapter_num = row.get(\"chapter\", index + 1)\n",
    "            summary = row.get(\"summary\", \"NO DATA\")\n",
    "            \n",
    "            print(\"ONCE UPON A TIME\")\n",
    "            chapter_panel = panel(f\"CHAPTER {chapter_num}\", summary)\n",
    "            console.print(chapter_panel)\n",
    "            print()\n",
    "    else:\n",
    "        print(\"NO DATA\")\n",
    "except Exception as e:\n",
    "    print(f\"NO FILE FOUND\")"
   ]
  }
 ],
 "metadata": {
  "kernelspec": {
   "display_name": "dungen",
   "language": "python",
   "name": "python3"
  },
  "language_info": {
   "codemirror_mode": {
    "name": "ipython",
    "version": 3
   },
   "file_extension": ".py",
   "mimetype": "text/x-python",
   "name": "python",
   "nbconvert_exporter": "python",
   "pygments_lexer": "ipython3",
   "version": "3.12.11"
  }
 },
 "nbformat": 4,
 "nbformat_minor": 2
}
